{
 "cells": [
  {
   "cell_type": "markdown",
   "id": "c1dff92f",
   "metadata": {},
   "source": [
    "# Iris Classification with Random Forest\n",
    "\n",
    "This notebook demonstrates a classic machine‑learning workflow on the Iris flower dataset. We'll perform exploratory data analysis, train a Random Forest classifier and evaluate its performance.\n"
   ]
  },
  {
   "cell_type": "code",
   "execution_count": null,
   "id": "0b2e2611",
   "metadata": {},
   "outputs": [],
   "source": [
    "import pandas as pd\n",
    "import numpy as np\n",
    "import seaborn as sns\n",
    "import matplotlib.pyplot as plt\n",
    "from sklearn.datasets import load_iris\n",
    "from sklearn.model_selection import train_test_split\n",
    "from sklearn.ensemble import RandomForestClassifier\n",
    "from sklearn.metrics import accuracy_score, confusion_matrix, classification_report\n",
    "\n",
    "# Set plots to display inline\n",
    "%matplotlib inline\n"
   ]
  },
  {
   "cell_type": "code",
   "execution_count": null,
   "id": "98bce92e",
   "metadata": {},
   "outputs": [],
   "source": [
    "# Load the Iris dataset and create a DataFrame\n",
    "iris = load_iris()\n",
    "df = pd.DataFrame(data=iris.data, columns=iris.feature_names)\n",
    "df['target'] = iris.target\n",
    "df['target_name'] = df['target'].map({i: name for i, name in enumerate(iris.target_names)})\n",
    "\n",
    "df.head()\n"
   ]
  },
  {
   "cell_type": "markdown",
   "id": "da71158e",
   "metadata": {},
   "source": [
    "## Visualize the data\n",
    "\n",
    "A pairplot helps to see relationships between features and the class labels.\n"
   ]
  },
  {
   "cell_type": "code",
   "execution_count": null,
   "id": "befb2618",
   "metadata": {},
   "outputs": [],
   "source": [
    "# Pairwise scatter plots\n",
    "sns.pairplot(df, hue='target_name', vars=iris.feature_names)\n",
    "plt.show()\n"
   ]
  },
  {
   "cell_type": "code",
   "execution_count": null,
   "id": "ff4b38c2",
   "metadata": {},
   "outputs": [],
   "source": [
    "# Split the data into training and test sets\n",
    "X = df[iris.feature_names]\n",
    "y = df['target']\n",
    "X_train, X_test, y_train, y_test = train_test_split(X, y, test_size=0.3, random_state=42, stratify=y)\n",
    "\n",
    "# Train a Random Forest classifier\n",
    "clf = RandomForestClassifier(n_estimators=100, random_state=42)\n",
    "clf.fit(X_train, y_train)\n",
    "\n",
    "# Make predictions on the test set\n",
    "preds = clf.predict(X_test)\n",
    "\n",
    "# Evaluate accuracy\n",
    "print(f'Accuracy: {accuracy_score(y_test, preds):.3f}')\n"
   ]
  },
  {
   "cell_type": "code",
   "execution_count": null,
   "id": "181bccee",
   "metadata": {},
   "outputs": [],
   "source": [
    "# Confusion matrix\n",
    "cm = confusion_matrix(y_test, preds)\n",
    "sns.heatmap(cm, annot=True, fmt='d', cmap='Blues', xticklabels=iris.target_names, yticklabels=iris.target_names)\n",
    "plt.xlabel('Predicted')\n",
    "plt.ylabel('True')\n",
    "plt.title('Confusion Matrix')\n",
    "plt.show()\n",
    "\n",
    "# Detailed classification report\n",
    "print(classification_report(y_test, preds, target_names=iris.target_names))\n"
   ]
  },
  {
   "cell_type": "markdown",
   "id": "d636c232",
   "metadata": {},
   "source": [
    "## Conclusion\n",
    "\n",
    "The Random Forest classifier achieves high accuracy on the Iris dataset. While this problem is relatively easy, the notebook demonstrates essential steps: data loading, exploration, model training, evaluation, and visualization.\n"
   ]
  }
 ],
 "metadata": {},
 "nbformat": 4,
 "nbformat_minor": 5
}
